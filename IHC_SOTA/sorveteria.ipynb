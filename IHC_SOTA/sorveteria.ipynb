{
  "nbformat": 4,
  "nbformat_minor": 0,
  "metadata": {
    "colab": {
      "provenance": []
    },
    "kernelspec": {
      "name": "python3",
      "display_name": "Python 3"
    },
    "language_info": {
      "name": "python"
    }
  },
  "cells": [
    {
      "cell_type": "code",
      "execution_count": 238,
      "metadata": {
        "collapsed": true,
        "id": "9-zMGTscBbh1",
        "colab": {
          "base_uri": "https://localhost:8080/"
        },
        "outputId": "bf788169-b3f3-4690-ed8f-d209f06cc0a9"
      },
      "outputs": [
        {
          "output_type": "stream",
          "name": "stdout",
          "text": [
            "Requirement already satisfied: transformers in /usr/local/lib/python3.10/dist-packages (4.41.2)\n",
            "Requirement already satisfied: pytelegrambotapi in /usr/local/lib/python3.10/dist-packages (4.19.0)\n",
            "Requirement already satisfied: filelock in /usr/local/lib/python3.10/dist-packages (from transformers) (3.14.0)\n",
            "Requirement already satisfied: huggingface-hub<1.0,>=0.23.0 in /usr/local/lib/python3.10/dist-packages (from transformers) (0.23.2)\n",
            "Requirement already satisfied: numpy>=1.17 in /usr/local/lib/python3.10/dist-packages (from transformers) (1.25.2)\n",
            "Requirement already satisfied: packaging>=20.0 in /usr/local/lib/python3.10/dist-packages (from transformers) (24.0)\n",
            "Requirement already satisfied: pyyaml>=5.1 in /usr/local/lib/python3.10/dist-packages (from transformers) (6.0.1)\n",
            "Requirement already satisfied: regex!=2019.12.17 in /usr/local/lib/python3.10/dist-packages (from transformers) (2024.5.15)\n",
            "Requirement already satisfied: requests in /usr/local/lib/python3.10/dist-packages (from transformers) (2.31.0)\n",
            "Requirement already satisfied: tokenizers<0.20,>=0.19 in /usr/local/lib/python3.10/dist-packages (from transformers) (0.19.1)\n",
            "Requirement already satisfied: safetensors>=0.4.1 in /usr/local/lib/python3.10/dist-packages (from transformers) (0.4.3)\n",
            "Requirement already satisfied: tqdm>=4.27 in /usr/local/lib/python3.10/dist-packages (from transformers) (4.66.4)\n",
            "Requirement already satisfied: fsspec>=2023.5.0 in /usr/local/lib/python3.10/dist-packages (from huggingface-hub<1.0,>=0.23.0->transformers) (2023.6.0)\n",
            "Requirement already satisfied: typing-extensions>=3.7.4.3 in /usr/local/lib/python3.10/dist-packages (from huggingface-hub<1.0,>=0.23.0->transformers) (4.12.1)\n",
            "Requirement already satisfied: charset-normalizer<4,>=2 in /usr/local/lib/python3.10/dist-packages (from requests->transformers) (3.3.2)\n",
            "Requirement already satisfied: idna<4,>=2.5 in /usr/local/lib/python3.10/dist-packages (from requests->transformers) (3.7)\n",
            "Requirement already satisfied: urllib3<3,>=1.21.1 in /usr/local/lib/python3.10/dist-packages (from requests->transformers) (2.0.7)\n",
            "Requirement already satisfied: certifi>=2017.4.17 in /usr/local/lib/python3.10/dist-packages (from requests->transformers) (2024.6.2)\n"
          ]
        }
      ],
      "source": [
        "!pip install transformers pytelegrambotapi"
      ]
    },
    {
      "cell_type": "code",
      "source": [
        "from transformers import pipeline\n",
        "import telebot\n",
        "import re\n",
        "import time\n",
        "from threading import Thread\n",
        "\n",
        "API_TOKEN = '7343295231:AAEYfq3zH-HJ-x8WGHLaxQymmqMO2viaZOI'"
      ],
      "metadata": {
        "id": "3b7cAT-yBovO"
      },
      "execution_count": 239,
      "outputs": []
    },
    {
      "cell_type": "code",
      "source": [
        "intents = [\n",
        "    \"iniciar_pedido\",\n",
        "    \"iniciar_conversa\",\n",
        "    \"pedir_sorvete\",\n",
        "    \"pedir_cardapio\",\n",
        "    \"info_contato\",\n",
        "    \"horario\",\n",
        "    \"outro\",\n",
        "    \"cancelar_pedido\",\n",
        "    \"finalizar_pedido\"\n",
        "]"
      ],
      "metadata": {
        "id": "Aq-yzTfnL9rC"
      },
      "execution_count": 240,
      "outputs": []
    },
    {
      "cell_type": "code",
      "source": [
        "item_prices = {\n",
        "    \"Sorvete de Açaí\": 5.00,\n",
        "    \"Sorvete de CheeseCake\": 5.00,\n",
        "    \"Sorvete de Chocolate\": 5.00,\n",
        "    \"Sorvete de Flocos\": 5.00,\n",
        "    \"Sorvete de Kinder Ovo\": 5.00,\n",
        "    \"Sorvete de Morango\": 5.00,\n",
        "    \"Sorvete de Napolitano\": 5.00,\n",
        "    \"Sorvete de Ninho Trufado\": 5.00,\n",
        "    \"Sorvete de Pistache\": 5.00,\n",
        "    \"Sorvete de Tapioca\": 5.00,\n",
        "    \"Sorvete de Torta de Limão\": 5.00,\n",
        "    \"Sorvete de Uva\": 5.00,\n",
        "    \"Milkshake de Café\": {\n",
        "        \"300ml\": 10.00,\n",
        "        \"500ml\": 15.00,\n",
        "        \"700ml\": 20.00\n",
        "    },\n",
        "    \"Milkshake de Chocolate\": {\n",
        "        \"300ml\": 10.00,\n",
        "        \"500ml\": 15.00,\n",
        "        \"700ml\": 20.00\n",
        "    },\n",
        "    \"Milkshake de Frutas Vermelhas\": {\n",
        "        \"300ml\": 12.00,\n",
        "        \"500ml\": 18.00,\n",
        "        \"700ml\": 24.00\n",
        "    },\n",
        "    \"Milkshake de Morango\": {\n",
        "        \"300ml\": 10.00,\n",
        "        \"500ml\": 15.00,\n",
        "        \"700ml\": 20.00\n",
        "    },\n",
        "    \"Milkshake de Ovomaltine\": {\n",
        "        \"300ml\": 12.00,\n",
        "        \"500ml\": 18.00,\n",
        "        \"700ml\": 24.00\n",
        "    },\n",
        "    \"Milkshake de Torta de Limão\": {\n",
        "        \"300ml\": 12.00,\n",
        "        \"500ml\": 18.00,\n",
        "        \"700ml\": 24.00\n",
        "    },\n",
        "    \"Picolé de Banana\": 3.00,\n",
        "    \"Picolé de Blue Ice\": 3.00,\n",
        "    \"Picolé de Chiclete\": 3.00,\n",
        "    \"Picolé de Leite Condensado\": 3.00,\n",
        "    \"Picolé de Milho Verde\": 3.00,\n",
        "    \"Picolé de Morango\": 3.00,\n",
        "    \"Picolé de Uva\": 3.00\n",
        "}"
      ],
      "metadata": {
        "id": "cBkyKGQaMKh4"
      },
      "execution_count": 241,
      "outputs": []
    },
    {
      "cell_type": "code",
      "source": [
        "def get_item_price(item, size=None):\n",
        "    if isinstance(item_prices[item], dict):\n",
        "        return item_prices[item].get(size, \"Tamanho não disponível\")\n",
        "    else:\n",
        "        return item_prices[item]"
      ],
      "metadata": {
        "id": "ZilDipEDMnl4"
      },
      "execution_count": 242,
      "outputs": []
    },
    {
      "cell_type": "code",
      "source": [
        "def summarize_order(order_details):\n",
        "    total_amount = 0\n",
        "    order_summary = \"*Resumo do Pedido:*\\n\\n\"\n",
        "\n",
        "    for item, (quantity, size) in order_details.items():\n",
        "        item_price = get_item_price(item, size)\n",
        "        total_amount += item_price * quantity\n",
        "        size_text = f\" ({size})\" if size else \"\"\n",
        "        order_summary += f\"{item}{size_text} (x{quantity}): R${item_price * quantity:.2f}\\n\"\n",
        "\n",
        "    order_summary += f\"\\n*Total:* R${total_amount:.2f}\"\n",
        "    return order_summary"
      ],
      "metadata": {
        "id": "YoxR_mM8Mq56"
      },
      "execution_count": 243,
      "outputs": []
    },
    {
      "cell_type": "code",
      "source": [
        "sorveteria_latitude = -23.22907\n",
        "sorveteria_longitude = -45.88675"
      ],
      "metadata": {
        "id": "VOK6jHhfC5Gi"
      },
      "execution_count": 244,
      "outputs": []
    },
    {
      "cell_type": "code",
      "source": [
        "def handle_payment_choice(message):\n",
        "    user_id = message.chat.id\n",
        "    payment_method = message.text.lower()\n",
        "\n",
        "    if payment_method in ['pix', 'cartão de débito', 'cartão de crédito', 'dinheiro']:\n",
        "        bot.reply_to(message, \"Ok, favor realizar o pagamento no balcão ao ir buscar seu pedido.\")\n",
        "        bot.send_location(user_id, sorveteria_latitude, sorveteria_longitude)\n",
        "        start_order_preparation(user_id)\n",
        "    else:\n",
        "        bot.reply_to(message, \"Por favor, escolha uma opção válida de pagamento.\")"
      ],
      "metadata": {
        "id": "bRa-6ZnQDsL7"
      },
      "execution_count": 245,
      "outputs": []
    },
    {
      "cell_type": "code",
      "source": [
        "def send_sorveteria_location(user_id):\n",
        "    bot.send_message(user_id, \"Seu pedido está pronto para ser retirado. Aqui está a localização da sorveteria:\")\n",
        "    bot.send_location(user_id, sorveteria_latitude, sorveteria_longitude)"
      ],
      "metadata": {
        "id": "Vg4cz8ajDM3_"
      },
      "execution_count": 246,
      "outputs": []
    },
    {
      "cell_type": "code",
      "source": [
        "def start_order_preparation(user_id):\n",
        "    preparation_time_minutes = 2\n",
        "\n",
        "    bot.send_message(user_id, f\"Tempo restante para o pedido ficar pronto: {preparation_time_minutes:02d}:00\")\n",
        "\n",
        "    for remaining_minutes in range(preparation_time_minutes, 0, -1):\n",
        "        time.sleep(60)\n",
        "        bot.send_message(user_id, f\"Tempo restante para o pedido ficar pronto: {remaining_minutes - 1:02d}:00\")\n",
        "\n",
        "    bot.send_message(user_id, \"Seu pedido está pronto! :)\")"
      ],
      "metadata": {
        "id": "tFn6IQ00DOUy"
      },
      "execution_count": 247,
      "outputs": []
    },
    {
      "cell_type": "code",
      "source": [
        "bot = telebot.TeleBot(API_TOKEN)"
      ],
      "metadata": {
        "id": "YOFlHR1MMvs0"
      },
      "execution_count": 248,
      "outputs": []
    },
    {
      "cell_type": "code",
      "source": [
        "classifier = pipeline('zero-shot-classification', model='facebook/bart-large-mnli')"
      ],
      "metadata": {
        "collapsed": true,
        "id": "kU6AVxlvM0D4"
      },
      "execution_count": 249,
      "outputs": []
    },
    {
      "cell_type": "code",
      "source": [
        "orders = {}\n",
        "pending_sizes = {}"
      ],
      "metadata": {
        "id": "aRJe_jk7M5-J"
      },
      "execution_count": 250,
      "outputs": []
    },
    {
      "cell_type": "code",
      "source": [
        "def extract_items_and_quantities(text):\n",
        "    pattern = r\"(\\d+)?\\s*(picolé|sorvete|milkshake) de ([a-z\\s]+)(?:\\s+e\\s+|\\s*,\\s*|$)\"\n",
        "    matches = re.findall(pattern, text, re.IGNORECASE)\n",
        "    items = {}\n",
        "    for match in matches:\n",
        "        quantity = int(match[0]) if match[0] else 1\n",
        "        item_type = match[1].capitalize()\n",
        "        item_flavor = match[2].strip().lower()\n",
        "        item_flavor = \" \".join(word.capitalize() for word in item_flavor.split())\n",
        "        item = f\"{item_type} de {item_flavor}\"\n",
        "        if item in items:\n",
        "            items[item] += quantity\n",
        "        else:\n",
        "            items[item] = quantity\n",
        "    return items"
      ],
      "metadata": {
        "id": "RthGvVrE6Yzp"
      },
      "execution_count": 251,
      "outputs": []
    },
    {
      "cell_type": "code",
      "source": [
        "@bot.message_handler(func=lambda message: True)\n",
        "def handle_message(message):\n",
        "    global orders\n",
        "    user_id = message.chat.id\n",
        "    text = message.text.lower()\n",
        "\n",
        "    if user_id in pending_sizes:\n",
        "        item = pending_sizes.pop(user_id)\n",
        "        if text in item_prices[item]:\n",
        "            if user_id not in orders:\n",
        "                orders[user_id] = {}\n",
        "            if item in orders[user_id]:\n",
        "                orders[user_id][item] = (orders[user_id][item][0] + 1, text)\n",
        "            else:\n",
        "                orders[user_id][item] = (1, text)\n",
        "            bot.reply_to(message, f\"Adicionei {item} ({text}) ao seu pedido. Você gostaria de mais alguma coisa? Se sim, apenas me avise. Se não, digite 'finalizar'. Se deseja cancelar o pedido, digite 'cancelar'.\")\n",
        "        else:\n",
        "            bot.reply_to(message, \"Tamanho não disponível. Por favor, escolha entre 300ml, 500ml ou 700ml.\")\n",
        "        return\n",
        "\n",
        "    # Identificação de intenções usando palavras-chave\n",
        "    if \"cardápio\" in text or \"menu\" in text:\n",
        "        intent = \"pedir_cardapio\"\n",
        "    elif any(keyword in text for keyword in [\"quero\", \"vou querer\", \"gostaria de\"]):\n",
        "        intent = \"pedir_sorvete\"\n",
        "    elif \"finalizar\" in text:\n",
        "        intent = \"finalizar_pedido\"\n",
        "    elif \"cancelar\" in text:\n",
        "        intent = \"cancelar_pedido\"\n",
        "    else:\n",
        "        result = classifier(text, intents)\n",
        "        intent = result['labels'][0]\n",
        "\n",
        "    if intent == \"iniciar_conversa\":\n",
        "        bot.reply_to(message, \"Olá! Bem-vindo à Sorveteria. Como posso ajudá-lo hoje?\")\n",
        "    elif intent == \"iniciar_pedido\":\n",
        "        bot.reply_to(message, \"Iniciando um novo pedido. Por favor, escolha os itens que deseja adicionar ao seu carrinho.\")\n",
        "        if user_id in orders:\n",
        "            orders[user_id] = {}\n",
        "    elif intent == \"pedir_cardapio\":\n",
        "        cardapio = \"\\n\".join([f\"• {item} - R${preco:.2f}\" if not isinstance(preco, dict) else f\"• {item} - (consulte os tamanhos)\" for item, preco in item_prices.items()])\n",
        "        bot.reply_to(message, f\"Os sabores disponíveis são:\\n{cardapio}\")\n",
        "    elif intent == \"pedir_sorvete\":\n",
        "        items = extract_items_and_quantities(text)\n",
        "        if not items:\n",
        "            bot.reply_to(message, \"Desculpe, não entendi qual item você gostaria de pedir.\")\n",
        "        else:\n",
        "            for item, quantity in items.items():\n",
        "                if item in item_prices:\n",
        "                    if isinstance(item_prices[item], dict):\n",
        "                        pending_sizes[user_id] = item\n",
        "                        bot.reply_to(message, \"Qual tamanho você gostaria? (300ml, 500ml, 700ml):\")\n",
        "                    else:\n",
        "                        if user_id not in orders:\n",
        "                            orders[user_id] = {}\n",
        "                        if item in orders[user_id]:\n",
        "                            orders[user_id][item] = (orders[user_id][item][0] + quantity, None)\n",
        "                        else:\n",
        "                            orders[user_id][item] = (quantity, None)\n",
        "                        bot.reply_to(message, f\"Adicionei {quantity} {item}(s) ao seu pedido. Você gostaria de mais alguma coisa? Se sim, apenas me avise. Se não, digite 'finalizar'. Se deseja cancelar o pedido, digite 'cancelar'.\")\n",
        "                else:\n",
        "                    bot.reply_to(message, f\"Desculpe, não temos {item}.\")\n",
        "    elif intent == \"outro\":\n",
        "        bot.reply_to(message, \"Desculpe, não entendi sua solicitação.\")\n",
        "    elif intent == \"cancelar_pedido\":\n",
        "        if user_id in orders:\n",
        "            orders.pop(user_id)\n",
        "            bot.reply_to(message, \"Seu pedido foi cancelado.\")\n",
        "        else:\n",
        "            bot.reply_to(message, \"Você não tem nenhum pedido em andamento.\")\n",
        "    elif intent == \"finalizar_pedido\":\n",
        "        if user_id in orders and orders[user_id]:\n",
        "            order_summary = summarize_order(orders[user_id])\n",
        "            bot.reply_to(message, order_summary)\n",
        "            bot.reply_to(message, \"Qual o método de pagamento desejado?\\n• Pix\\n• Cartão de débito\\n• Cartão de crédito\\n• Dinheiro\")\n",
        "            bot.register_next_step_handler(message, handle_payment_choice)\n",
        "            orders.pop(user_id)\n",
        "        else:\n",
        "            bot.reply_to(message, \"Você não tem nenhum pedido em andamento para finalizar.\")\n",
        "    elif text in item_prices:\n",
        "        if isinstance(item_prices[text], dict):\n",
        "            pending_sizes[user_id] = text\n",
        "            bot.reply_to(message, \"Qual tamanho você gostaria? (300ml, 500ml, 700ml):\")\n",
        "        else:\n",
        "            if user_id not in orders:\n",
        "                orders[user_id] = {}\n",
        "            if text in orders[user_id]:\n",
        "                orders[user_id][text] = (orders[user_id][text][0] + 1, None)\n",
        "            else:\n",
        "                orders[user_id][text] = (1, None)\n",
        "            bot.reply_to(message, f\"Adicionei {text} ao seu pedido. Você gostaria de mais alguma coisa? Se sim, apenas me avise. Se não, digite 'finalizar'. Se deseja cancelar o pedido, digite 'cancelar'.\")\n",
        "    else:\n",
        "        bot.reply_to(message, \"Desculpe, não entendi sua solicitação.\")\n"
      ],
      "metadata": {
        "id": "BMoleI03M_aK"
      },
      "execution_count": 252,
      "outputs": []
    },
    {
      "cell_type": "code",
      "source": [
        "bot.polling()"
      ],
      "metadata": {
        "id": "htsXRwNMNBzV"
      },
      "execution_count": null,
      "outputs": []
    }
  ]
}